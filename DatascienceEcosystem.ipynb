{
 "cells": [
  {
   "cell_type": "markdown",
   "id": "1c2173a0-b8f6-46af-9241-61a89b8242ae",
   "metadata": {},
   "source": [
    "# H1 Datascience ecosystem "
   ]
  },
  {
   "cell_type": "markdown",
   "id": "4ee98ebc-ca22-4a88-81a1-6748f1dcd8fc",
   "metadata": {
    "tags": []
   },
   "source": [
    "# In this notebook, Data Science Tools and Ecosystem are summarized"
   ]
  },
  {
   "cell_type": "markdown",
   "id": "f055a4ce-6eb5-4a4f-8c74-79bb1230f186",
   "metadata": {},
   "source": [
    "# Some of the popular languages that Data Scientists use are:\n",
    "\n",
    "# Then create an ordered list (i.e. numbered) listing 3 (or more) commonly used languages for data science."
   ]
  },
  {
   "cell_type": "markdown",
   "id": "12b31082-07a7-4c66-8fc6-1f65f690547e",
   "metadata": {},
   "source": [
    "# objective\n",
    "* first\n",
    "* second\n",
    "* third"
   ]
  },
  {
   "cell_type": "markdown",
   "id": "7daa4834-6e8b-45e7-9806-37aead10dab5",
   "metadata": {},
   "source": [
    "# Some of the commonly used libraries used by Data Scientists include: Below this line add an ordered list listing 3 (or more) commonly used libraries in data science."
   ]
  },
  {
   "cell_type": "markdown",
   "id": "6e841bf8-37c6-414f-a3cd-0392fd574072",
   "metadata": {},
   "source": [
    "## Execute as a markdown cell\n",
    "\n",
    "| Country Name | Capital |\n",
    "| -------------| ------ |\n",
    "| United States | Washington DC |\n",
    "| Australia | Canberra |\n",
    "| India | New Delhi |"
   ]
  },
  {
   "cell_type": "markdown",
   "id": "aa93fc4c-bc7f-4fbd-a1bf-18d44513903b",
   "metadata": {},
   "source": [
    "### H3 Below are a few examples of evaluating arithmetic expressions in Python"
   ]
  },
  {
   "cell_type": "code",
   "execution_count": 1,
   "id": "c02fcdfe-bcdd-4e8f-ad75-d870eeb390a3",
   "metadata": {
    "tags": []
   },
   "outputs": [
    {
     "data": {
      "text/plain": [
       "17"
      ]
     },
     "execution_count": 1,
     "metadata": {},
     "output_type": "execute_result"
    }
   ],
   "source": [
    "# simply arithematic\n",
    "(3*4)+5"
   ]
  },
  {
   "cell_type": "code",
   "execution_count": 2,
   "id": "f7e00884-c93a-4004-84d5-f952b240c7d6",
   "metadata": {
    "tags": []
   },
   "outputs": [
    {
     "data": {
      "text/plain": [
       "3.3333333333333335"
      ]
     },
     "execution_count": 2,
     "metadata": {},
     "output_type": "execute_result"
    }
   ],
   "source": [
    "# the code will convert 200min to hours by dividing by 60\n",
    "200/60"
   ]
  },
  {
   "cell_type": "markdown",
   "id": "660ce5e8-8e36-4029-9f75-2c4e384f1746",
   "metadata": {},
   "source": []
  }
 ],
 "metadata": {
  "kernelspec": {
   "display_name": "Python",
   "language": "python",
   "name": "conda-env-python-py"
  },
  "language_info": {
   "codemirror_mode": {
    "name": "ipython",
    "version": 3
   },
   "file_extension": ".py",
   "mimetype": "text/x-python",
   "name": "python",
   "nbconvert_exporter": "python",
   "pygments_lexer": "ipython3",
   "version": "3.7.12"
  }
 },
 "nbformat": 4,
 "nbformat_minor": 5
}
